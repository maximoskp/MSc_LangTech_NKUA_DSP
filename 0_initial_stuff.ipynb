{
 "cells": [
  {
   "cell_type": "markdown",
   "metadata": {},
   "source": [
    "Download and install Anaconda in your machine (Windows / macOS / Linux):\n",
    "\n",
    "https://www.anaconda.com/products/individual\n",
    "\n",
    "Open Anaconda navigator and create a new environment *using the latest version of python*. Choose a name for your environment (e.g. name it \"audio_dsp\").\n",
    "\n",
    "In the \"created environment\", install \"Jupyter Notebook\".\n",
    "\n",
    "Open Jupyter Notebook - preferably from terminal.\n",
    "\n",
    "auto open in chromium / or any other browser:\n",
    "\n",
    "jupyter notebook --generate-config\n",
    "\n",
    "code jupyter_notebook_config.py # or nano, or whatever browser\n",
    "\n",
    "change the line \n",
    "\n",
    "\\# c.NotebookApp.browser = '' \n",
    "\n",
    "to \n",
    "\n",
    "c.NotebookApp.browser = 'C:/path/to/your/chrome.exe %s' - Caution: backslashes, regardless of windows\n",
    "Caution: %s at the end\n",
    "\n",
    "\n",
    "Change color theme:\n",
    "\n",
    "conda install -c conda-forge jupyterthemes\n",
    "\n",
    "or \n",
    "\n",
    "pip install jupyterthemes\n",
    "\n",
    "jt -t chesterish\n",
    "\n",
    "\n",
    "Install interactive extension\n",
    "pip install ipywidgets\n",
    "pip install jupyterlab\n",
    "jupyter labextension install @jupyter-widgets/jupyterlab-manager\n",
    "\n",
    "You might also need to\n",
    "conda install matplotlib\n"
   ]
  },
  {
   "cell_type": "markdown",
   "metadata": {},
   "source": [
    "Usefull libraries:\n",
    "to install with pip install\n",
    "numpy\n",
    "matplotlib\n",
    "librosa\n"
   ]
  },
  {
   "cell_type": "code",
   "execution_count": 1,
   "metadata": {},
   "outputs": [],
   "source": [
    "# comments start with '#' - when the program runs, comments are not parsed\n",
    "# variables can be all types of data, e.g.\n",
    "# integers\n",
    "n = 5\n",
    "# floats\n",
    "x = 6.7\n",
    "# strings\n",
    "s = 'what?'\n",
    "# lists\n",
    "a = [1, 2, 'why?', 4.3, [1,2,3] ]\n",
    "# and many more..."
   ]
  },
  {
   "cell_type": "code",
   "execution_count": 2,
   "metadata": {},
   "outputs": [],
   "source": [
    "# variables can have any name that does not start with a number\n",
    "# for example, this is valid:\n",
    "variable_with_long_name = ['5', 'is not', 'equal', 'to', 5]\n",
    "# while the following is NOT valid (uncomment the following line to check out the error)\n",
    "# 3sd = 8\n",
    "# by the way, comments are a great way to temporarily cancel out lines of code without\n",
    "# deleting them - in case they come in handy in the future, or if they help us remember\n",
    "# steps that we have once followed"
   ]
  },
  {
   "cell_type": "code",
   "execution_count": 3,
   "metadata": {},
   "outputs": [
    {
     "name": "stdout",
     "output_type": "stream",
     "text": [
      "[1, 2, 'why?', 4.3, [1, 2, 3]]\n",
      "a =  [1, 2, 'why?', 4.3, [1, 2, 3]]\n"
     ]
    }
   ],
   "source": [
    "# in jupyter we can continue to the next cell - sharing the above variables,\n",
    "# if they have been evaluated\n",
    "# we can print the contents of a variable to check its content\n",
    "print(a)\n",
    "# its wise to provide more info about what we print...\n",
    "print('a = ', a)"
   ]
  },
  {
   "cell_type": "code",
   "execution_count": 4,
   "metadata": {},
   "outputs": [
    {
     "name": "stdout",
     "output_type": "stream",
     "text": [
      "a =  [1, 2, 'why?', 4.3, [1, 2, 3]]  - x =  6.7\n",
      "a = [1, 2, 'why?', 4.3, [1, 2, 3]] - x =  6.7\n",
      "words love to be together\n"
     ]
    }
   ],
   "source": [
    "# we can give more items to print\n",
    "print('a = ', a , ' - x = ', x)\n",
    "# which, in this case, is (practically) equivalent to\n",
    "print( 'a = ' + repr(a) + ' - x = ', str(x) )\n",
    "# actually, the argument to print given above is a single string\n",
    "# strings can be composed by concatenating substrings with '+'\n",
    "concatenated_string = 'words ' + 'love ' + 'to ' + 'be ' + 'together'\n",
    "print(concatenated_string)"
   ]
  },
  {
   "cell_type": "code",
   "execution_count": 14,
   "metadata": {},
   "outputs": [],
   "source": [
    "# if the above cell has not been evaluated, autocompletion (or using the variables defined\n",
    "# therein, will not work)\n",
    "# concatenated_string.<TAB>\n",
    "# concatenated_string.replace?"
   ]
  }
 ],
 "metadata": {
  "kernelspec": {
   "display_name": "Python 3 (ipykernel)",
   "language": "python",
   "name": "python3"
  },
  "language_info": {
   "codemirror_mode": {
    "name": "ipython",
    "version": 3
   },
   "file_extension": ".py",
   "mimetype": "text/x-python",
   "name": "python",
   "nbconvert_exporter": "python",
   "pygments_lexer": "ipython3",
   "version": "3.7.11"
  }
 },
 "nbformat": 4,
 "nbformat_minor": 4
}
