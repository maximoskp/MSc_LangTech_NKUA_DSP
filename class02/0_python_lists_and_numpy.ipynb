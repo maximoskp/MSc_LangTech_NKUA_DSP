{
 "cells": [
  {
   "cell_type": "code",
   "execution_count": 1,
   "metadata": {
    "colab": {
     "base_uri": "https://localhost:8080/"
    },
    "executionInfo": {
     "elapsed": 467,
     "status": "ok",
     "timestamp": 1696497865883,
     "user": {
      "displayName": "Maximos Kaliakatsos Papakostas",
      "userId": "03550622684376453199"
     },
     "user_tz": -180
    },
    "id": "A5mhYnFLGX0k",
    "outputId": "6dcdcc5e-cda5-4f74-c4fa-84f7dcb32c90"
   },
   "outputs": [],
   "source": [
    "# variables and print\n",
    "# integer variables\n",
    "\n",
    "# string variables\n",
    "# string concatenation\n",
    "\n",
    "# float variables\n",
    "\n",
    "# addition between variable types"
   ]
  },
  {
   "cell_type": "code",
   "execution_count": 2,
   "metadata": {
    "colab": {
     "base_uri": "https://localhost:8080/"
    },
    "executionInfo": {
     "elapsed": 6,
     "status": "ok",
     "timestamp": 1696498346899,
     "user": {
      "displayName": "Maximos Kaliakatsos Papakostas",
      "userId": "03550622684376453199"
     },
     "user_tz": -180
    },
    "id": "RGtUHL82GhrU",
    "outputId": "c02a412b-5210-4008-ab78-5e1902883bee"
   },
   "outputs": [],
   "source": [
    "# lists - tuples - sets\n",
    "\n",
    "\n",
    "# indexing - retrieving list elements\n"
   ]
  },
  {
   "cell_type": "code",
   "execution_count": 3,
   "metadata": {
    "colab": {
     "base_uri": "https://localhost:8080/"
    },
    "executionInfo": {
     "elapsed": 6,
     "status": "ok",
     "timestamp": 1696499709821,
     "user": {
      "displayName": "Maximos Kaliakatsos Papakostas",
      "userId": "03550622684376453199"
     },
     "user_tz": -180
    },
    "id": "PgsNNN-aGnUx",
    "outputId": "6f345766-a424-4dca-840b-86a78ea6e00d"
   },
   "outputs": [],
   "source": [
    "# for and while loops\n"
   ]
  },
  {
   "cell_type": "code",
   "execution_count": null,
   "metadata": {
    "id": "k2oIvmBzGlXi"
   },
   "outputs": [],
   "source": [
    "# dictionaries"
   ]
  },
  {
   "cell_type": "code",
   "execution_count": null,
   "metadata": {
    "id": "bBBJF0eeG0as"
   },
   "outputs": [],
   "source": [
    "# functions - pt. 1"
   ]
  },
  {
   "cell_type": "code",
   "execution_count": null,
   "metadata": {
    "id": "F5LQ9y1yHNZb"
   },
   "outputs": [],
   "source": [
    "# numpy - variables and addition"
   ]
  },
  {
   "cell_type": "code",
   "execution_count": null,
   "metadata": {
    "id": "cCzHcZdJHQvq"
   },
   "outputs": [],
   "source": [
    "# matplotlib"
   ]
  },
  {
   "cell_type": "code",
   "execution_count": null,
   "metadata": {
    "id": "uJM7lsOkHWZ-"
   },
   "outputs": [],
   "source": [
    "# numpy functions"
   ]
  }
 ],
 "metadata": {
  "colab": {
   "authorship_tag": "ABX9TyN7nOS9Jc/WcQZiO4X21Ymg",
   "provenance": []
  },
  "kernelspec": {
   "display_name": "Python 3 (ipykernel)",
   "language": "python",
   "name": "python3"
  },
  "language_info": {
   "codemirror_mode": {
    "name": "ipython",
    "version": 3
   },
   "file_extension": ".py",
   "mimetype": "text/x-python",
   "name": "python",
   "nbconvert_exporter": "python",
   "pygments_lexer": "ipython3",
   "version": "3.9.12"
  }
 },
 "nbformat": 4,
 "nbformat_minor": 1
}
